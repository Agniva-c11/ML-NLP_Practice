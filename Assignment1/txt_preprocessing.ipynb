{
 "cells": [
  {
   "cell_type": "code",
   "execution_count": 1,
   "id": "36a4d368",
   "metadata": {},
   "outputs": [],
   "source": [
    "import pandas as pd\n",
    "import nltk"
   ]
  },
  {
   "cell_type": "code",
   "execution_count": 6,
   "id": "15aa3bdc",
   "metadata": {},
   "outputs": [],
   "source": [
    "df = pd.read_csv('/home/agniva/Documents/Machine Learning/tmdb_top_rated_movies.csv')"
   ]
  },
  {
   "cell_type": "code",
   "execution_count": 7,
   "id": "433cc08f",
   "metadata": {},
   "outputs": [
    {
     "data": {
      "text/html": [
       "<div>\n",
       "<style scoped>\n",
       "    .dataframe tbody tr th:only-of-type {\n",
       "        vertical-align: middle;\n",
       "    }\n",
       "\n",
       "    .dataframe tbody tr th {\n",
       "        vertical-align: top;\n",
       "    }\n",
       "\n",
       "    .dataframe thead th {\n",
       "        text-align: right;\n",
       "    }\n",
       "</style>\n",
       "<table border=\"1\" class=\"dataframe\">\n",
       "  <thead>\n",
       "    <tr style=\"text-align: right;\">\n",
       "      <th></th>\n",
       "      <th>title</th>\n",
       "      <th>description</th>\n",
       "      <th>genres</th>\n",
       "    </tr>\n",
       "  </thead>\n",
       "  <tbody>\n",
       "    <tr>\n",
       "      <th>0</th>\n",
       "      <td>Miracle in Cell No. 7</td>\n",
       "      <td>Separated from his daughter, a father with an ...</td>\n",
       "      <td>['Unknown']</td>\n",
       "    </tr>\n",
       "    <tr>\n",
       "      <th>1</th>\n",
       "      <td>Paths of Glory</td>\n",
       "      <td>A commanding officer defends three scapegoats ...</td>\n",
       "      <td>['Unknown', 'Unknown', 'Unknown']</td>\n",
       "    </tr>\n",
       "    <tr>\n",
       "      <th>2</th>\n",
       "      <td>The Legend of 1900</td>\n",
       "      <td>The story of a virtuoso piano player who lives...</td>\n",
       "      <td>['Unknown', 'Unknown']</td>\n",
       "    </tr>\n",
       "    <tr>\n",
       "      <th>3</th>\n",
       "      <td>Le Trou</td>\n",
       "      <td>Four prison inmates have been hatching a plan ...</td>\n",
       "      <td>['Unknown', 'Unknown', 'Unknown']</td>\n",
       "    </tr>\n",
       "    <tr>\n",
       "      <th>4</th>\n",
       "      <td>Oldboy</td>\n",
       "      <td>With no clue how he came to be imprisoned, dru...</td>\n",
       "      <td>['Unknown', 'Unknown', 'Unknown', 'Unknown']</td>\n",
       "    </tr>\n",
       "  </tbody>\n",
       "</table>\n",
       "</div>"
      ],
      "text/plain": [
       "                   title                                        description  \\\n",
       "0  Miracle in Cell No. 7  Separated from his daughter, a father with an ...   \n",
       "1         Paths of Glory  A commanding officer defends three scapegoats ...   \n",
       "2     The Legend of 1900  The story of a virtuoso piano player who lives...   \n",
       "3                Le Trou  Four prison inmates have been hatching a plan ...   \n",
       "4                 Oldboy  With no clue how he came to be imprisoned, dru...   \n",
       "\n",
       "                                         genres  \n",
       "0                                   ['Unknown']  \n",
       "1             ['Unknown', 'Unknown', 'Unknown']  \n",
       "2                        ['Unknown', 'Unknown']  \n",
       "3             ['Unknown', 'Unknown', 'Unknown']  \n",
       "4  ['Unknown', 'Unknown', 'Unknown', 'Unknown']  "
      ]
     },
     "execution_count": 7,
     "metadata": {},
     "output_type": "execute_result"
    }
   ],
   "source": [
    "df.head()"
   ]
  },
  {
   "cell_type": "code",
   "execution_count": 8,
   "id": "667dc5b4",
   "metadata": {},
   "outputs": [],
   "source": [
    "df = df.drop('genres', axis = 1)"
   ]
  },
  {
   "cell_type": "code",
   "execution_count": 9,
   "id": "580c0a40",
   "metadata": {},
   "outputs": [
    {
     "data": {
      "text/html": [
       "<div>\n",
       "<style scoped>\n",
       "    .dataframe tbody tr th:only-of-type {\n",
       "        vertical-align: middle;\n",
       "    }\n",
       "\n",
       "    .dataframe tbody tr th {\n",
       "        vertical-align: top;\n",
       "    }\n",
       "\n",
       "    .dataframe thead th {\n",
       "        text-align: right;\n",
       "    }\n",
       "</style>\n",
       "<table border=\"1\" class=\"dataframe\">\n",
       "  <thead>\n",
       "    <tr style=\"text-align: right;\">\n",
       "      <th></th>\n",
       "      <th>title</th>\n",
       "      <th>description</th>\n",
       "    </tr>\n",
       "  </thead>\n",
       "  <tbody>\n",
       "    <tr>\n",
       "      <th>0</th>\n",
       "      <td>Miracle in Cell No. 7</td>\n",
       "      <td>Separated from his daughter, a father with an ...</td>\n",
       "    </tr>\n",
       "    <tr>\n",
       "      <th>1</th>\n",
       "      <td>Paths of Glory</td>\n",
       "      <td>A commanding officer defends three scapegoats ...</td>\n",
       "    </tr>\n",
       "    <tr>\n",
       "      <th>2</th>\n",
       "      <td>The Legend of 1900</td>\n",
       "      <td>The story of a virtuoso piano player who lives...</td>\n",
       "    </tr>\n",
       "    <tr>\n",
       "      <th>3</th>\n",
       "      <td>Le Trou</td>\n",
       "      <td>Four prison inmates have been hatching a plan ...</td>\n",
       "    </tr>\n",
       "    <tr>\n",
       "      <th>4</th>\n",
       "      <td>Oldboy</td>\n",
       "      <td>With no clue how he came to be imprisoned, dru...</td>\n",
       "    </tr>\n",
       "  </tbody>\n",
       "</table>\n",
       "</div>"
      ],
      "text/plain": [
       "                   title                                        description\n",
       "0  Miracle in Cell No. 7  Separated from his daughter, a father with an ...\n",
       "1         Paths of Glory  A commanding officer defends three scapegoats ...\n",
       "2     The Legend of 1900  The story of a virtuoso piano player who lives...\n",
       "3                Le Trou  Four prison inmates have been hatching a plan ...\n",
       "4                 Oldboy  With no clue how he came to be imprisoned, dru..."
      ]
     },
     "execution_count": 9,
     "metadata": {},
     "output_type": "execute_result"
    }
   ],
   "source": [
    "df.head()"
   ]
  },
  {
   "cell_type": "code",
   "execution_count": 10,
   "id": "eb282751",
   "metadata": {},
   "outputs": [],
   "source": [
    "# Lowercasing\n",
    "df['title'] = df['title'].str.lower()\n",
    "df['description'] = df['description'].str.lower()"
   ]
  },
  {
   "cell_type": "code",
   "execution_count": 11,
   "id": "7ec7e97a",
   "metadata": {},
   "outputs": [
    {
     "data": {
      "text/html": [
       "<div>\n",
       "<style scoped>\n",
       "    .dataframe tbody tr th:only-of-type {\n",
       "        vertical-align: middle;\n",
       "    }\n",
       "\n",
       "    .dataframe tbody tr th {\n",
       "        vertical-align: top;\n",
       "    }\n",
       "\n",
       "    .dataframe thead th {\n",
       "        text-align: right;\n",
       "    }\n",
       "</style>\n",
       "<table border=\"1\" class=\"dataframe\">\n",
       "  <thead>\n",
       "    <tr style=\"text-align: right;\">\n",
       "      <th></th>\n",
       "      <th>title</th>\n",
       "      <th>description</th>\n",
       "    </tr>\n",
       "  </thead>\n",
       "  <tbody>\n",
       "    <tr>\n",
       "      <th>0</th>\n",
       "      <td>miracle in cell no. 7</td>\n",
       "      <td>separated from his daughter, a father with an ...</td>\n",
       "    </tr>\n",
       "    <tr>\n",
       "      <th>1</th>\n",
       "      <td>paths of glory</td>\n",
       "      <td>a commanding officer defends three scapegoats ...</td>\n",
       "    </tr>\n",
       "    <tr>\n",
       "      <th>2</th>\n",
       "      <td>the legend of 1900</td>\n",
       "      <td>the story of a virtuoso piano player who lives...</td>\n",
       "    </tr>\n",
       "    <tr>\n",
       "      <th>3</th>\n",
       "      <td>le trou</td>\n",
       "      <td>four prison inmates have been hatching a plan ...</td>\n",
       "    </tr>\n",
       "    <tr>\n",
       "      <th>4</th>\n",
       "      <td>oldboy</td>\n",
       "      <td>with no clue how he came to be imprisoned, dru...</td>\n",
       "    </tr>\n",
       "  </tbody>\n",
       "</table>\n",
       "</div>"
      ],
      "text/plain": [
       "                   title                                        description\n",
       "0  miracle in cell no. 7  separated from his daughter, a father with an ...\n",
       "1         paths of glory  a commanding officer defends three scapegoats ...\n",
       "2     the legend of 1900  the story of a virtuoso piano player who lives...\n",
       "3                le trou  four prison inmates have been hatching a plan ...\n",
       "4                 oldboy  with no clue how he came to be imprisoned, dru..."
      ]
     },
     "execution_count": 11,
     "metadata": {},
     "output_type": "execute_result"
    }
   ],
   "source": [
    "df.head()"
   ]
  },
  {
   "cell_type": "code",
   "execution_count": 17,
   "id": "f9241e5a",
   "metadata": {},
   "outputs": [],
   "source": [
    "# Remove Punctuations\n",
    "import string\n",
    "string.punctuation\n",
    "exclude = string.punctuation\n",
    "\n",
    "def remove_punc(text):\n",
    "    if isinstance(text, str):\n",
    "        return text.translate(str.maketrans('', '', exclude))\n",
    "    return text"
   ]
  },
  {
   "cell_type": "code",
   "execution_count": 18,
   "metadata": {},
   "outputs": [],
   "source": [
    "df['title'] = df['title'].apply(remove_punc)\n"
   ]
  },
  {
   "cell_type": "code",
   "execution_count": 19,
   "id": "03080f2f",
   "metadata": {},
   "outputs": [],
   "source": [
    "df['description'] = df['description'].apply(remove_punc)"
   ]
  },
  {
   "cell_type": "code",
   "execution_count": 20,
   "id": "f3396ad3",
   "metadata": {},
   "outputs": [
    {
     "data": {
      "text/html": [
       "<div>\n",
       "<style scoped>\n",
       "    .dataframe tbody tr th:only-of-type {\n",
       "        vertical-align: middle;\n",
       "    }\n",
       "\n",
       "    .dataframe tbody tr th {\n",
       "        vertical-align: top;\n",
       "    }\n",
       "\n",
       "    .dataframe thead th {\n",
       "        text-align: right;\n",
       "    }\n",
       "</style>\n",
       "<table border=\"1\" class=\"dataframe\">\n",
       "  <thead>\n",
       "    <tr style=\"text-align: right;\">\n",
       "      <th></th>\n",
       "      <th>title</th>\n",
       "      <th>description</th>\n",
       "    </tr>\n",
       "  </thead>\n",
       "  <tbody>\n",
       "    <tr>\n",
       "      <th>0</th>\n",
       "      <td>miracle in cell no 7</td>\n",
       "      <td>separated from his daughter a father with an i...</td>\n",
       "    </tr>\n",
       "    <tr>\n",
       "      <th>1</th>\n",
       "      <td>paths of glory</td>\n",
       "      <td>a commanding officer defends three scapegoats ...</td>\n",
       "    </tr>\n",
       "    <tr>\n",
       "      <th>2</th>\n",
       "      <td>the legend of 1900</td>\n",
       "      <td>the story of a virtuoso piano player who lives...</td>\n",
       "    </tr>\n",
       "    <tr>\n",
       "      <th>3</th>\n",
       "      <td>le trou</td>\n",
       "      <td>four prison inmates have been hatching a plan ...</td>\n",
       "    </tr>\n",
       "    <tr>\n",
       "      <th>4</th>\n",
       "      <td>oldboy</td>\n",
       "      <td>with no clue how he came to be imprisoned drug...</td>\n",
       "    </tr>\n",
       "  </tbody>\n",
       "</table>\n",
       "</div>"
      ],
      "text/plain": [
       "                  title                                        description\n",
       "0  miracle in cell no 7  separated from his daughter a father with an i...\n",
       "1        paths of glory  a commanding officer defends three scapegoats ...\n",
       "2    the legend of 1900  the story of a virtuoso piano player who lives...\n",
       "3               le trou  four prison inmates have been hatching a plan ...\n",
       "4                oldboy  with no clue how he came to be imprisoned drug..."
      ]
     },
     "execution_count": 20,
     "metadata": {},
     "output_type": "execute_result"
    }
   ],
   "source": [
    "df.head()"
   ]
  },
  {
   "cell_type": "code",
   "execution_count": null,
   "id": "829438a6",
   "metadata": {},
   "outputs": [],
   "source": []
  },
  {
   "cell_type": "code",
   "execution_count": null,
   "id": "9836956a",
   "metadata": {},
   "outputs": [],
   "source": []
  },
  {
   "cell_type": "code",
   "execution_count": null,
   "id": "1b4991f5",
   "metadata": {},
   "outputs": [],
   "source": []
  },
  {
   "cell_type": "code",
   "execution_count": null,
   "id": "7ca8a420",
   "metadata": {},
   "outputs": [],
   "source": []
  },
  {
   "cell_type": "code",
   "execution_count": null,
   "id": "48f268f3",
   "metadata": {},
   "outputs": [],
   "source": []
  },
  {
   "cell_type": "code",
   "execution_count": null,
   "metadata": {},
   "outputs": [],
   "source": []
  },
  {
   "cell_type": "code",
   "execution_count": null,
   "id": "3f92f5ab",
   "metadata": {},
   "outputs": [],
   "source": []
  },
  {
   "cell_type": "code",
   "execution_count": null,
   "id": "87153eb2",
   "metadata": {},
   "outputs": [],
   "source": []
  },
  {
   "cell_type": "code",
   "execution_count": null,
   "id": "847363d4",
   "metadata": {},
   "outputs": [],
   "source": []
  },
  {
   "cell_type": "code",
   "execution_count": null,
   "id": "827d1a2a",
   "metadata": {},
   "outputs": [],
   "source": []
  },
  {
   "cell_type": "code",
   "execution_count": null,
   "id": "52abb4a4",
   "metadata": {},
   "outputs": [],
   "source": []
  },
  {
   "cell_type": "code",
   "execution_count": null,
   "id": "2156fad7",
   "metadata": {},
   "outputs": [],
   "source": []
  },
  {
   "cell_type": "code",
   "execution_count": null,
   "id": "a3da40b3",
   "metadata": {},
   "outputs": [],
   "source": []
  },
  {
   "cell_type": "code",
   "execution_count": null,
   "id": "b2d4f002",
   "metadata": {},
   "outputs": [],
   "source": []
  }
 ],
 "metadata": {
  "kernelspec": {
   "display_name": "venv",
   "language": "python",
   "name": "python3"
  },
  "language_info": {
   "codemirror_mode": {
    "name": "ipython",
    "version": 3
   },
   "file_extension": ".py",
   "mimetype": "text/x-python",
   "name": "python",
   "nbconvert_exporter": "python",
   "pygments_lexer": "ipython3",
   "version": "3.12.3"
  }
 },
 "nbformat": 4,
 "nbformat_minor": 5
}
